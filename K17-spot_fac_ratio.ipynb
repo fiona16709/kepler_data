{
 "cells": [
  {
   "cell_type": "code",
   "execution_count": 1,
   "metadata": {},
   "outputs": [],
   "source": [
    "import numpy  as np\n",
    "import matplotlib.pyplot as plt\n",
    "import pandas as pd"
   ]
  },
  {
   "cell_type": "markdown",
   "metadata": {},
   "source": [
    "# find all 400 files fac"
   ]
  },
  {
   "cell_type": "code",
   "execution_count": 17,
   "metadata": {},
   "outputs": [],
   "source": [
    "number = np.linspace(0,399,400)"
   ]
  },
  {
   "cell_type": "code",
   "execution_count": 18,
   "metadata": {},
   "outputs": [
    {
     "name": "stdout",
     "output_type": "stream",
     "text": [
      "[0, 1, 2, 3, 4, 5, 6, 7, 8, 9, 10, 11, 12, 13, 14, 15, 16, 17, 18, 19, 20, 21, 22, 23, 24, 25, 26, 27, 28, 29, 30, 31, 32, 33, 34, 35, 36, 37, 38, 39, 40, 41, 42, 43, 44, 45, 46, 47, 48, 49, 50, 51, 52, 53, 54, 55, 56, 57, 58, 59, 60, 61, 62, 63, 64, 65, 66, 67, 68, 69, 70, 71, 72, 73, 74, 75, 76, 77, 78, 79, 80, 81, 82, 83, 84, 85, 86, 87, 88, 89, 90, 91, 92, 93, 94, 95, 96, 97, 98, 99, 100, 101, 102, 103, 104, 105, 106, 107, 108, 109, 110, 111, 112, 113, 114, 115, 116, 117, 118, 119, 120, 121, 122, 123, 124, 125, 126, 127, 128, 129, 130, 131, 132, 133, 134, 135, 136, 137, 138, 139, 140, 141, 142, 143, 144, 145, 146, 147, 148, 149, 150, 151, 152, 153, 154, 155, 156, 157, 158, 159, 160, 161, 162, 163, 164, 165, 166, 167, 168, 169, 170, 171, 172, 173, 174, 175, 176, 177, 178, 179, 180, 181, 182, 183, 184, 185, 186, 187, 188, 189, 191, 192, 193, 194, 195, 196, 197, 198, 199, 200, 201, 202, 203, 204, 205, 206, 207, 208, 209, 210, 211, 212, 213, 214, 215, 216, 217, 218, 219, 220, 221, 222, 223, 224, 225, 226, 227, 228, 229, 230, 231, 232, 233, 234, 235, 236, 237, 238, 239, 240, 241, 242, 243, 244, 245, 246, 247, 248, 249, 250, 251, 252, 253, 254, 255, 256, 257, 258, 259, 260, 261, 262, 263, 264, 265, 266, 267, 268, 269, 270, 271, 272, 273, 274, 275, 276, 277, 278, 279, 280, 281, 282, 283, 284, 285, 286, 287, 288, 289, 290, 291, 292, 293, 294, 295, 296, 297, 298, 299, 300, 301, 302, 303, 304, 305, 306, 307, 308, 309, 310, 311, 312, 313, 314, 315, 316, 317, 318, 319, 320, 321, 322, 323, 324, 325, 326, 328, 329, 330, 331, 332, 333, 334, 335, 336, 337, 338, 339, 340, 341, 342, 343, 344, 345, 346, 347, 348, 349, 350, 351, 352, 353, 354, 355, 356, 357, 358, 359, 360, 361, 362, 363, 364, 365, 366, 367, 368, 369, 370, 371, 372, 373, 374, 375, 376, 377, 378, 379, 380, 381, 382, 383, 384, 385, 386, 387, 388, 389, 390, 391, 392, 393, 394, 395, 396, 397, 398, 399]\n"
     ]
    }
   ],
   "source": [
    "NO = []\n",
    "for n in number:\n",
    "    if n == 327:\n",
    "        pass\n",
    "    elif n == 190:\n",
    "        pass\n",
    "    else:\n",
    "        n_new = int(n)\n",
    "        NO.append(n_new)\n",
    "\n",
    "print(NO)"
   ]
  },
  {
   "cell_type": "code",
   "execution_count": 24,
   "metadata": {},
   "outputs": [
    {
     "name": "stdout",
     "output_type": "stream",
     "text": [
      "[0, 0, 1, 0, 0, 0, 1, 0, 0, 0, 1, 0, 0, 0, 1, 1, 0, 0, 1, 2, 1, 1, 1, 0, 0, 1, 2, 1, 1, 0, 0, 1, 1, 1, 2, 0, 0, 0, 0, 1, 1, 1, 1, 1, 0, 0, 1, 0, 0, 0, 1, 1, 1, 1, 1, 1, 1, 0, 0, 0, 0, 1, 2, 1, 0, 0, 0, 0, 0, 0, 1, 1, 1, 1, 1, 1, 1, 1, 1, 2, 0, 1, 1, 1, 1, 0, 0, 2, 0, 0, 2, 1, 1, 1, 1, 0, 0, 2, 1, 0, 0, 1, 0, 1, 1, 1, 1, 0, 0, 0, 1, 1, 1, 0, 0, 1, 1, 2, 1, 2, 1, 1, 0, 0, 1, 2, 1, 0, 0, 0, 1, 2, 0, 1, 1, 1, 0, 1, 2, 1, 1, 0, 0, 0, 0, 1, 2, 1, 1, 1, 0, 1, 1, 1, 0, 0, 0, 0, 1, 2, 0, 1, 0, 0, 0, 0, 1, 2, 1, 1, 0, 0, 1, 1, 1, 0, 0, 0, 2, 1, 0, 1, 0, 1, 1, 0, 1, 1, 0, 1, 1, 0, 0, 0, 1, 1, 1, 2, 2, 0, 1, 1, 0, 1, 1, 0, 0, 0, 0, 1, 1, 2, 1, 0, 0, 0, 0, 1, 1, 1, 0, 0, 0, 1, 0, 0, 0, 0, 0, 0, 1, 1, 1, 1, 0, 0, 0, 1, 1, 2, 1, 1, 1, 0, 0, 1, 1, 1, 1, 2, 1, 0, 0, 0, 0, 1, 1, 1, 1, 1, 1, 0, 1, 1, 1, 2, 0, 1, 0, 2, 0, 1, 2, 1, 0, 0, 0, 2, 1, 0, 0, 1, 0, 0, 1, 1, 1, 1, 1, 2, 1, 0, 1, 0, 1, 1, 1, 1, 0, 1, 1, 2, 1, 2, 2, 0, 0, 0, 1, 1, 0, 1, 2, 1, 1, 0, 1, 2, 2, 2, 2, 1, 0, 0, 1, 0, 0, 2, 0, 0, 0, 2, 1, 1, 0, 1, 1, 1, 0, 1, 1, 1, 2, 2, 1, 0, 2, 0, 1, 0, 1, 1, 1, 2, 2, 1, 1, 1, 1, 2, 1, 2, 0, 0, 1, 0, 0, 1, 0, 0, 0, 0, 1, 0, 1, 0, 0, 1, 1, 2, 1, 1, 0, 1, 0, 1, 1, 1, 0, 0, 1, 1, 1, 1, 1, 1, 1, 1]\n"
     ]
    }
   ],
   "source": [
    "exist_fac = [] ##### fac condition lower limit\n",
    "for i in NO:\n",
    "    file_name = \"KIC_17-trans_\"+str(i)+\"-5s_sub.txt\"\n",
    "    data = np.loadtxt(file_name)\n",
    "    time = pd.Series(data[:,0])\n",
    "    flux = pd.Series(data[:,1])\n",
    "    lower_lim = data[0,4] # 3 sigma\n",
    "    higher_lim = data[0,5] # 3 sigma\n",
    "    L_bond = data[0,6] # ingress bound\n",
    "    R_bond = data[0,7] # egress bound\n",
    "    cL_bond = data[0,8] # left central bound\n",
    "    cR_bond = data[0,9] # right central bound\n",
    "    \n",
    "    '''facula test-1'''\n",
    "    ### time in central range ###\n",
    "    x_time_c = time[time>=cL_bond][time<=cR_bond][flux<=lower_lim] ##### fac condition lower limit\n",
    "    y_flux_c = flux[time>=cL_bond][time<=cR_bond][flux<=lower_lim] ##### fac condition lower limit\n",
    "    ### find the peak time ###\n",
    "    if len(y_flux_c)!= 0:\n",
    "        x_peak = float(x_time_c[y_flux_c==min(y_flux_c)]) # time at flux peak ##### fac condition lower limit\n",
    "        y_peak = float(y_flux_c[y_flux_c==min(y_flux_c)]) # flux peak ##### fac condition lower limit\n",
    "\n",
    "    #     plt.plot(x_peak,y_peak,'r.') # peak point\n",
    "\n",
    "        '''facula test-2'''\n",
    "        ### split peak into 2 parts ###\n",
    "        time_L = np.array(time[time<=x_peak])\n",
    "        flux_L = np.array(flux[time<=x_peak])\n",
    "        time_R = np.array(time[time>=x_peak])\n",
    "        flux_R = np.array(flux[time>=x_peak])\n",
    "        ### find the first point under y = 0 line from the peak###\n",
    "        left_edge = []\n",
    "        left_edge_flux = []\n",
    "        for i_tL,v_fL in enumerate(flux_L): # left part\n",
    "            if flux_L[-i_tL] >= 0 and i_tL != 0: ##### fac condition lower limit\n",
    "                left_edge.append(time_L[-i_tL])\n",
    "                left_edge_flux.append(flux_L[-i_tL])\n",
    "        #         print(time_L[-i_tL])\n",
    "        #         print(time_L[-i_tL],flux_L[-i_tL])\n",
    "        right_edge = []    \n",
    "        right_edge_flux = []\n",
    "        for i_tR,v_fR in enumerate(flux_R): # right part\n",
    "            if flux_R[i_tR] >= 0 and i_tR != 0: ##### fac condition lower limit\n",
    "                right_edge.append(time_R[i_tR])\n",
    "                right_edge_flux.append(flux_R[i_tR])\n",
    "        #         print(time_R[i_tR],flux_R[i_tR])\n",
    "\n",
    "        ### check the facula exist_fac ###\n",
    "        time_dur = time[time>=left_edge[0]][time<=right_edge[0]].values # time_duration for fac/spot\n",
    "        flux_dur = flux[time>=left_edge[0]][time<=right_edge[0]].values # flux of time_duration for fac/spot\n",
    "        if len(time_dur) >= 3: # check\n",
    "\n",
    "            '''facula test-3'''\n",
    "            time2 = time[(time<=time_dur[0])|(time>=time_dur[-1])]\n",
    "            flux2 = flux[(time<=time_dur[0])|(time>=time_dur[-1])]\n",
    "\n",
    "            # while min(flux2)<=lower_lim:\n",
    "\n",
    "            ### time in central range ###\n",
    "            x_time_c2 = time2[time2>=cL_bond][time2<=cR_bond][flux2<=lower_lim] ##### fac condition lower limit\n",
    "            y_flux_c2 = flux2[time2>=cL_bond][time2<=cR_bond][flux2<=lower_lim] ##### fac condition lower limit\n",
    "\n",
    "\n",
    "            ### find the peak time ###\n",
    "            if len(y_flux_c2)!= 0:\n",
    "                x_peak2 = float(x_time_c2[y_flux_c2==min(y_flux_c2)]) # time at flux peak ##### fac condition lower limit\n",
    "                y_peak2 = float(y_flux_c2[y_flux_c2==min(y_flux_c2)]) # flux peak ##### fac condition lower limit\n",
    "\n",
    "                ### split peak into 2 parts ###\n",
    "                time2_L = np.array(time2[time2<=x_peak2])\n",
    "                flux2_L = np.array(flux2[time2<=x_peak2])\n",
    "                time2_R = np.array(time2[time2>=x_peak2])\n",
    "                flux2_R = np.array(flux2[time2>=x_peak2])\n",
    "                ### find the first point under y = 0 line from the peak###\n",
    "                left_edge2 = []\n",
    "                left_edge2_flux = []\n",
    "                for i_tL,v_fL in enumerate(flux2_L): # left part\n",
    "                    if flux2_L[-i_tL] >= 0 and i_tL != 0: ##### fac condition lower limit\n",
    "                        left_edge2.append(time2_L[-i_tL])\n",
    "                        left_edge2_flux.append(flux2_L[-i_tL])\n",
    "                #         print(time_L[-i_tL])\n",
    "                #         print(time_L[-i_tL],flux_L[-i_tL])\n",
    "                right_edge2 = []    \n",
    "                right_edge2_flux = []\n",
    "                for i_tR,v_fR in enumerate(flux2_R): # right part\n",
    "                    if flux2_R[i_tR] >= 0 and i_tR != 0: ##### fac condition lower limit\n",
    "                        right_edge2.append(time2_R[i_tR])\n",
    "                        right_edge2_flux.append(flux2_R[i_tR])\n",
    "                #         print(time_R[i_tR],flux_R[i_tR])\n",
    "\n",
    "                ### check the facula exist_fac ###\n",
    "                time_dur2 = time2[time2>=left_edge2[0]][time2<=right_edge2[0]].values # time_duration for fac/spot\n",
    "                if len(time_dur2) >= 3: # check\n",
    "                    exist_fac_txt = 2\n",
    "        #             print(exist_fac_txt)\n",
    "                else:\n",
    "                    exist_fac_txt = 1\n",
    "        #             print(exist_fac_txt)\n",
    "\n",
    "                exist_fac.append(exist_fac_txt)\n",
    "            else:\n",
    "                exist_fac_txt = 1\n",
    "                exist_fac.append(exist_fac_txt)\n",
    "        else:\n",
    "            exist_fac_txt = 0\n",
    "            exist_fac.append(exist_fac_txt)\n",
    "    else:\n",
    "        exist_fac_txt = 0\n",
    "        exist_fac.append(exist_fac_txt)\n",
    "print(exist_fac)"
   ]
  },
  {
   "cell_type": "code",
   "execution_count": 25,
   "metadata": {},
   "outputs": [
    {
     "data": {
      "text/plain": [
       "398"
      ]
     },
     "execution_count": 25,
     "metadata": {},
     "output_type": "execute_result"
    }
   ],
   "source": [
    "len(exist_fac)"
   ]
  },
  {
   "cell_type": "code",
   "execution_count": 26,
   "metadata": {},
   "outputs": [
    {
     "name": "stdout",
     "output_type": "stream",
     "text": [
      "285\n"
     ]
    }
   ],
   "source": [
    "fac_number = sum(exist_fac)\n",
    "print(fac_number)"
   ]
  },
  {
   "cell_type": "markdown",
   "metadata": {},
   "source": [
    "# find all 400 files spot"
   ]
  },
  {
   "cell_type": "code",
   "execution_count": 7,
   "metadata": {
    "scrolled": true
   },
   "outputs": [
    {
     "name": "stdout",
     "output_type": "stream",
     "text": [
      "[0, 0, 1, 1, 0, 0, 1, 1, 1, 1, 0, 0, 1, 0, 0, 0, 0, 0, 0, 0, 0, 1, 0, 0, 1, 0, 0, 1, 1, 0, 0, 0, 1, 1, 1, 0, 0, 0, 0, 0, 0, 0, 0, 0, 0, 0, 0, 0, 0, 0, 0, 0, 0, 0, 0, 0, 0, 1, 2, 2, 2, 2, 1, 0, 0, 0, 2, 2, 0, 0, 0, 0, 0, 0, 1, 0, 1, 1, 0, 0, 0, 1, 0, 1, 1, 0, 1, 0, 1, 1, 0, 1, 1, 0, 0, 1, 0, 2, 0, 0, 2, 1, 0, 0, 0, 0, 1, 1, 0, 1, 0, 0, 0, 2, 1, 2, 0, 0, 0, 0, 1, 1, 1, 0, 0, 0, 0, 1, 2, 1, 1, 0, 0, 0, 0, 0, 0, 0, 1, 1, 0, 0, 1, 0, 0, 0, 0, 0, 0, 1, 1, 0, 1, 0, 0, 1, 1, 0, 1, 1, 1, 0, 0, 1, 0, 0, 0, 0, 0, 0, 1, 1, 1, 1, 0, 0, 2, 1, 0, 0, 0, 0, 0, 0, 0, 1, 1, 0, 2, 1, 1, 1, 2, 1, 0, 0, 1, 1, 0, 1, 1, 0, 0, 2, 1, 1, 2, 2, 1, 0, 0, 0, 0, 2, 2, 2, 1, 0, 0, 0, 1, 1, 1, 0, 1, 1, 0, 0, 1, 0, 0, 0, 0, 0, 0, 0, 0, 0, 0, 0, 0, 1, 2, 0, 1, 1, 1, 0, 0, 1, 1, 1, 1, 1, 1, 1, 0, 1, 0, 0, 1, 1, 0, 1, 0, 0, 0, 1, 1, 2, 0, 1, 2, 1, 0, 1, 1, 2, 1, 1, 1, 1, 1, 1, 2, 0, 1, 0, 0, 0, 2, 2, 2, 1, 1, 0, 1, 0, 2, 2, 2, 1, 0, 1, 1, 1, 2, 1, 1, 1, 1, 0, 0, 1, 1, 1, 1, 1, 0, 0, 0, 1, 1, 1, 0, 2, 1, 0, 1, 1, 1, 0, 1, 0, 0, 0, 1, 1, 2, 1, 1, 0, 0, 1, 1, 2, 1, 1, 1, 0, 0, 1, 1, 1, 1, 0, 0, 1, 0, 1, 1, 1, 1, 1, 1, 0, 0, 1, 1, 1, 1, 1, 0, 0, 0, 1, 1, 1, 0, 1, 0, 0, 1, 0, 0, 1, 0, 1, 1, 1, 1, 0, 0, 0, 0, 2, 1, 0]\n"
     ]
    }
   ],
   "source": [
    "exist_spot = [] ##### spot condition higher limit\n",
    "for i in NO:\n",
    "#     print(i)\n",
    "    file_name = \"KIC_17-trans_\"+str(i)+\"-5s_sub.txt\"\n",
    "    data = np.loadtxt(file_name)\n",
    "    time = pd.Series(data[:,0])\n",
    "    flux = pd.Series(data[:,1])\n",
    "    higher_lim = data[0,4] # 3 sigma\n",
    "    higher_lim = data[0,5] # 3 sigma\n",
    "    L_bond = data[0,6] # ingress bound\n",
    "    R_bond = data[0,7] # egress bound\n",
    "    cL_bond = data[0,8] # left central bound\n",
    "    cR_bond = data[0,9] # right central bound\n",
    "\n",
    "    '''spot test-1'''\n",
    "    ### time in central range ###\n",
    "    x_time_c = time[time>=cL_bond][time<=cR_bond][flux>=higher_lim] # higher than 3 sigma\n",
    "    y_flux_c = flux[time>=cL_bond][time<=cR_bond][flux>=higher_lim]\n",
    "    ### find the peak time ###\n",
    "    if len(y_flux_c)!= 0:\n",
    "        x_peak = float(x_time_c[y_flux_c==max(y_flux_c)]) # time at flux peak \n",
    "        y_peak = float(y_flux_c[y_flux_c==max(y_flux_c)]) # flux peak \n",
    "\n",
    "    #     plt.plot(x_peak,y_peak,'r.') # peak point\n",
    "\n",
    "        '''spot test-2'''\n",
    "        ### split peak into 2 parts ###\n",
    "        time_L = np.array(time[time<=x_peak])\n",
    "        flux_L = np.array(flux[time<=x_peak])\n",
    "        time_R = np.array(time[time>=x_peak])\n",
    "        flux_R = np.array(flux[time>=x_peak])\n",
    "        ### find the first point under y = 0 line from the peak###\n",
    "        left_edge = []\n",
    "        left_edge_flux = []\n",
    "        for i_tL,v_fL in enumerate(flux_L): # left part\n",
    "            if flux_L[-i_tL] <= 0 and i_tL != 0:\n",
    "                left_edge.append(time_L[-i_tL])\n",
    "                left_edge_flux.append(flux_L[-i_tL])\n",
    "#                 print(time_L[-i_tL])\n",
    "        #         print(time_L[-i_tL],flux_L[-i_tL])\n",
    "        right_edge = []    \n",
    "        right_edge_flux = []\n",
    "        for i_tR,v_fR in enumerate(flux_R): # right part\n",
    "            if flux_R[i_tR] <= 0 and i_tR != 0:\n",
    "#                 print(flux_R[i_tR])\n",
    "                right_edge.append(time_R[i_tR])\n",
    "                right_edge_flux.append(flux_R[i_tR])\n",
    "#                 print(right_edge)\n",
    "#                 print(time_R[i_tR],flux_R[i_tR])\n",
    "\n",
    "\n",
    "    #         ### check the spot exist_spot ###\n",
    "#             print(left_edge[0])\n",
    "        time_dur = time[time>=left_edge[0]][time<=right_edge[0]].values # time_duration for spot/spot\n",
    "        flux_dur = flux[time>=left_edge[0]][time<=right_edge[0]].values # flux of time_duration for spot/spot\n",
    "        if len(time_dur) >= 3: # check\n",
    "\n",
    "            '''spot test-3'''\n",
    "            time2 = time[(time<=time_dur[0])|(time>=time_dur[-1])]\n",
    "            flux2 = flux[(time<=time_dur[0])|(time>=time_dur[-1])]\n",
    "\n",
    "            # while max(flux2)<=higher_lim:\n",
    "\n",
    "            ### time in central range ###\n",
    "            x_time_c2 = time2[time2>=cL_bond][time2<=cR_bond][flux2>=higher_lim]\n",
    "            y_flux_c2 = flux2[time2>=cL_bond][time2<=cR_bond][flux2>=higher_lim]\n",
    "\n",
    "\n",
    "            ### find the peak time ###\n",
    "            if len(y_flux_c2)!= 0:\n",
    "                x_peak2 = float(x_time_c2[y_flux_c2==max(y_flux_c2)]) # time at flux peak \n",
    "                y_peak2 = float(y_flux_c2[y_flux_c2==max(y_flux_c2)]) # flux peak \n",
    "\n",
    "                ### split peak into 2 parts ###\n",
    "                time2_L = np.array(time2[time2<=x_peak2])\n",
    "                flux2_L = np.array(flux2[time2<=x_peak2])\n",
    "                time2_R = np.array(time2[time2>=x_peak2])\n",
    "                flux2_R = np.array(flux2[time2>=x_peak2])\n",
    "                ### find the first point under y = 0 line from the peak###\n",
    "                left_edge2 = []\n",
    "                left_edge2_flux = []\n",
    "                for i_tL,v_fL in enumerate(flux2_L): # left part\n",
    "                    if flux2_L[-i_tL] <= 0 and i_tL != 0:\n",
    "                        left_edge2.append(time2_L[-i_tL])\n",
    "                        left_edge2_flux.append(flux2_L[-i_tL])\n",
    "                #         print(time_L[-i_tL])\n",
    "                #         print(time_L[-i_tL],flux_L[-i_tL])\n",
    "                right_edge2 = []    \n",
    "                right_edge2_flux = []\n",
    "                for i_tR,v_fR in enumerate(flux2_R): # right part\n",
    "                    if flux2_R[i_tR] <= 0 and i_tR != 0:\n",
    "                        right_edge2.append(time2_R[i_tR])\n",
    "                        right_edge2_flux.append(flux2_R[i_tR])\n",
    "#                         print(time2_R[i_tR],flux2_R[i_tR])\n",
    "\n",
    "                ### check the spotula exist_spot ###\n",
    "#                 print(right_edge2,right_edge2_flux)\n",
    "                time_dur2 = time2[time2>=left_edge2[0]][time2<=right_edge2[0]].values # time_duration for spot/spot\n",
    "                if len(time_dur2) >= 3: # check\n",
    "                    exist_txt = 2\n",
    "        #             print(exist_txt)\n",
    "                else:\n",
    "                    exist_txt = 1\n",
    "        #             print(exist_txt)\n",
    "\n",
    "                exist_spot.append(exist_txt)\n",
    "            else:\n",
    "                exist_txt = 1\n",
    "                exist_spot.append(exist_txt)\n",
    "        else:\n",
    "            exist_txt = 0\n",
    "            exist_spot.append(exist_txt)\n",
    "    else:\n",
    "        exist_txt = 0\n",
    "        exist_spot.append(exist_txt)\n",
    "\n",
    "print(exist_spot)"
   ]
  },
  {
   "cell_type": "code",
   "execution_count": 8,
   "metadata": {},
   "outputs": [
    {
     "data": {
      "text/plain": [
       "398"
      ]
     },
     "execution_count": 8,
     "metadata": {},
     "output_type": "execute_result"
    }
   ],
   "source": [
    "len(exist_spot)"
   ]
  },
  {
   "cell_type": "code",
   "execution_count": 9,
   "metadata": {},
   "outputs": [
    {
     "data": {
      "text/plain": [
       "236"
      ]
     },
     "execution_count": 9,
     "metadata": {},
     "output_type": "execute_result"
    }
   ],
   "source": [
    "sum(exist_spot)"
   ]
  },
  {
   "cell_type": "markdown",
   "metadata": {},
   "source": [
    "# 修正transit 190"
   ]
  },
  {
   "cell_type": "code",
   "execution_count": null,
   "metadata": {},
   "outputs": [],
   "source": [
    "'''可參考 /sciproc/disk03/fiona/Kepler-71_new2/tapResult_Recut/subtractionRecut/K71-spot_fac_ratio_test 檔案'''"
   ]
  },
  {
   "cell_type": "code",
   "execution_count": 49,
   "metadata": {},
   "outputs": [
    {
     "data": {
      "image/png": "[encoded data removed]",
      "text/plain": [
       "<Figure size 432x288 with 1 Axes>"
      ]
     },
     "metadata": {
      "needs_background": "light"
     },
     "output_type": "display_data"
    }
   ],
   "source": [
    "'''修正transit 190'''\n",
    "file_name_test = \"KIC_17-trans_190-5s_sub.txt\"\n",
    "data_test = np.loadtxt(file_name_test)\n",
    "time = pd.Series(data_test[:,0])\n",
    "flux = pd.Series(data_test[:,1])\n",
    "lower_lim = data_test[0,4] # 3 sigma\n",
    "higher_lim = data_test[0,5] # 3 sigma\n",
    "L_bond = data_test[0,6] # ingress bound\n",
    "R_bond = data_test[0,7] # egress bound\n",
    "cL_bond = data_test[0,8] # left central bound\n",
    "cR_bond = data_test[0,9] # right central bound\n",
    "\n",
    "plt.plot(time,flux,'k-')\n",
    "plt.axhline(y=lower_lim,color='g')\n",
    "plt.axhline(y=higher_lim,color='g')\n",
    "plt.axhline(y=0,color='r')\n",
    "plt.axvline(x=L_bond,color='k',linestyle='--')\n",
    "plt.axvline(x=R_bond,color='k',linestyle='--')\n",
    "plt.axvline(x=cL_bond,color='b',linestyle='--')\n",
    "plt.axvline(x=cR_bond,color='b',linestyle='--')\n",
    "\n",
    "plt.show()"
   ]
  },
  {
   "cell_type": "code",
   "execution_count": 48,
   "metadata": {
    "collapsed": true
   },
   "outputs": [
    {
     "ename": "IndexError",
     "evalue": "list index out of range",
     "output_type": "error",
     "traceback": [
      "\u001b[0;31m---------------------------------------------------------------------------\u001b[0m",
      "\u001b[0;31mIndexError\u001b[0m                                Traceback (most recent call last)",
      "\u001b[0;32m<ipython-input-48-f66f6e0d2c5a>\u001b[0m in \u001b[0;36m<module>\u001b[0;34m\u001b[0m\n\u001b[1;32m     36\u001b[0m \u001b[0;34m\u001b[0m\u001b[0m\n\u001b[1;32m     37\u001b[0m     \u001b[0;31m### check the spot exist ###\u001b[0m\u001b[0;34m\u001b[0m\u001b[0;34m\u001b[0m\u001b[0;34m\u001b[0m\u001b[0m\n\u001b[0;32m---> 38\u001b[0;31m     \u001b[0mtime_dur\u001b[0m \u001b[0;34m=\u001b[0m \u001b[0mtime\u001b[0m\u001b[0;34m[\u001b[0m\u001b[0mtime\u001b[0m\u001b[0;34m>=\u001b[0m\u001b[0mleft_edge\u001b[0m\u001b[0;34m[\u001b[0m\u001b[0;36m0\u001b[0m\u001b[0;34m]\u001b[0m\u001b[0;34m]\u001b[0m\u001b[0;34m[\u001b[0m\u001b[0mtime\u001b[0m\u001b[0;34m<=\u001b[0m\u001b[0mright_edge\u001b[0m\u001b[0;34m[\u001b[0m\u001b[0;36m0\u001b[0m\u001b[0;34m]\u001b[0m\u001b[0;34m]\u001b[0m\u001b[0;34m.\u001b[0m\u001b[0mvalues\u001b[0m \u001b[0;31m# time_duration for spot/spot\u001b[0m\u001b[0;34m\u001b[0m\u001b[0;34m\u001b[0m\u001b[0m\n\u001b[0m\u001b[1;32m     39\u001b[0m     \u001b[0mflux_dur\u001b[0m \u001b[0;34m=\u001b[0m \u001b[0mflux\u001b[0m\u001b[0;34m[\u001b[0m\u001b[0mtime\u001b[0m\u001b[0;34m>=\u001b[0m\u001b[0mleft_edge\u001b[0m\u001b[0;34m[\u001b[0m\u001b[0;36m0\u001b[0m\u001b[0;34m]\u001b[0m\u001b[0;34m]\u001b[0m\u001b[0;34m[\u001b[0m\u001b[0mtime\u001b[0m\u001b[0;34m<=\u001b[0m\u001b[0mright_edge\u001b[0m\u001b[0;34m[\u001b[0m\u001b[0;36m0\u001b[0m\u001b[0;34m]\u001b[0m\u001b[0;34m]\u001b[0m\u001b[0;34m.\u001b[0m\u001b[0mvalues\u001b[0m \u001b[0;31m# flux of time_duration for spot/spot\u001b[0m\u001b[0;34m\u001b[0m\u001b[0;34m\u001b[0m\u001b[0m\n\u001b[1;32m     40\u001b[0m     \u001b[0;32mif\u001b[0m \u001b[0mlen\u001b[0m\u001b[0;34m(\u001b[0m\u001b[0mtime_dur\u001b[0m\u001b[0;34m)\u001b[0m \u001b[0;34m>=\u001b[0m \u001b[0;36m3\u001b[0m\u001b[0;34m:\u001b[0m \u001b[0;31m# check\u001b[0m\u001b[0;34m\u001b[0m\u001b[0;34m\u001b[0m\u001b[0m\n",
      "\u001b[0;31mIndexError\u001b[0m: list index out of range"
     ]
    }
   ],
   "source": [
    "''' try to write as a for loop with a single but double spot file'''\n",
    "exist = []\n",
    "'''spot test-1'''\n",
    "### time in central range ###\n",
    "x_time_c = time[time>=cL_bond][time<=cR_bond][flux>=higher_lim]\n",
    "y_flux_c = flux[time>=cL_bond][time<=cR_bond][flux>=higher_lim]\n",
    "### find the peak time ###\n",
    "if len(y_flux_c)!= 0:\n",
    "    x_peak = float(x_time_c[y_flux_c==max(y_flux_c)]) # time at flux peak \n",
    "    y_peak = float(y_flux_c[y_flux_c==max(y_flux_c)]) # flux peak \n",
    "\n",
    "#     plt.plot(x_peak,y_peak,'r.') # peak point\n",
    "\n",
    "    '''spot test-2'''\n",
    "    ### split peak into 2 parts ###\n",
    "    time_L = np.array(time[time<=x_peak])\n",
    "    flux_L = np.array(flux[time<=x_peak])\n",
    "    time_R = np.array(time[time>=x_peak])\n",
    "    flux_R = np.array(flux[time>=x_peak])\n",
    "    ### find the first point under y = 0 line from the peak###\n",
    "    left_edge = []\n",
    "    left_edge_flux = []\n",
    "    for i_tL,v_fL in enumerate(flux_L): # left part\n",
    "        if flux_L[-i_tL] <= 0 and i_tL != 0:\n",
    "            left_edge.append(time_L[-i_tL])\n",
    "            left_edge_flux.append(flux_L[-i_tL])\n",
    "    #         print(time_L[-i_tL])\n",
    "    #         print(time_L[-i_tL],flux_L[-i_tL])\n",
    "    right_edge = []    \n",
    "    right_edge_flux = []\n",
    "    for i_tR,v_fR in enumerate(flux_R): # right part\n",
    "        if flux_R[i_tR] <= 0 and i_tR != 0:\n",
    "            right_edge.append(time_R[i_tR])\n",
    "            right_edge_flux.append(flux_R[i_tR])\n",
    "    #         print(time_R[i_tR],flux_R[i_tR])\n",
    "\n",
    "    ### check the spot exist ###\n",
    "    time_dur = time[time>=left_edge[0]][time<=right_edge[0]].values # time_duration for spot/spot\n",
    "    flux_dur = flux[time>=left_edge[0]][time<=right_edge[0]].values # flux of time_duration for spot/spot\n",
    "    if len(time_dur) >= 3: # check\n",
    "        \n",
    "        '''spot test-3'''\n",
    "        time2 = time[(time<=time_dur[0])|(time>=time_dur[-1])]\n",
    "        flux2 = flux[(time<=time_dur[0])|(time>=time_dur[-1])]\n",
    "\n",
    "        # while max(flux2)<=higher_lim:\n",
    "\n",
    "        ### time in central range ###\n",
    "        x_time_c2 = time2[time2>=cL_bond][time2<=cR_bond][flux2>=higher_lim]\n",
    "        y_flux_c2 = flux2[time2>=cL_bond][time2<=cR_bond][flux2>=higher_lim]\n",
    "\n",
    "\n",
    "        ### find the peak time ###\n",
    "        if len(y_flux_c2)!= 0:\n",
    "            x_peak2 = float(x_time_c2[y_flux_c2==max(y_flux_c2)]) # time at flux peak \n",
    "            y_peak2 = float(y_flux_c2[y_flux_c2==max(y_flux_c2)]) # flux peak \n",
    "\n",
    "            ### split peak into 2 parts ###\n",
    "            time2_L = np.array(time2[time2<=x_peak2])\n",
    "            flux2_L = np.array(flux2[time2<=x_peak2])\n",
    "            time2_R = np.array(time2[time2>=x_peak2])\n",
    "            flux2_R = np.array(flux2[time2>=x_peak2])\n",
    "            ### find the first point under y = 0 line from the peak###\n",
    "            left_edge2 = []\n",
    "            left_edge2_flux = []\n",
    "            for i_tL,v_fL in enumerate(flux2_L): # left part\n",
    "                if flux2_L[-i_tL] <= 0 and i_tL != 0:\n",
    "                    left_edge2.append(time2_L[-i_tL])\n",
    "                    left_edge2_flux.append(flux2_L[-i_tL])\n",
    "            #         print(time_L[-i_tL])\n",
    "            #         print(time_L[-i_tL],flux_L[-i_tL])\n",
    "            right_edge2 = []    \n",
    "            right_edge2_flux = []\n",
    "            for i_tR,v_fR in enumerate(flux2_R): # right part\n",
    "                if flux2_R[i_tR] <= 0 and i_tR != 0:\n",
    "                    right_edge2.append(time2_R[i_tR])\n",
    "                    right_edge2_flux.append(flux2_R[i_tR])\n",
    "            #         print(time_R[i_tR],flux_R[i_tR])\n",
    "\n",
    "            ### check the spotula exist ###\n",
    "            time_dur2 = time2[time2>=left_edge2[0]][time2<=right_edge2[0]].values # time_duration for spot/spot\n",
    "            if len(time_dur2) >= 3: # check\n",
    "                exist_txt = 2\n",
    "    #             print(exist_txt)\n",
    "            else:\n",
    "                exist_txt = 1\n",
    "    #             print(exist_txt)\n",
    "    \n",
    "            exist.append(exist_txt)\n",
    "        else:\n",
    "            exist_txt = 1\n",
    "            exist.append(exist_txt)\n",
    "    else:\n",
    "        exist_txt = 0\n",
    "        exist.append(exist_txt)\n",
    "else:\n",
    "    exist_txt = 0\n",
    "    exist.append(exist_txt)\n",
    "        \n",
    "print(exist)"
   ]
  },
  {
   "cell_type": "code",
   "execution_count": 10,
   "metadata": {},
   "outputs": [
    {
     "name": "stdout",
     "output_type": "stream",
     "text": [
      "237\n"
     ]
    }
   ],
   "source": [
    "spot_number = sum(exist_spot)+1 # 多 +1 是因為transit 190\n",
    "print(spot_number)"
   ]
  },
  {
   "cell_type": "code",
   "execution_count": 11,
   "metadata": {},
   "outputs": [
    {
     "data": {
      "text/plain": [
       "0.8315789473684211"
      ]
     },
     "execution_count": 11,
     "metadata": {},
     "output_type": "execute_result"
    }
   ],
   "source": [
    "'''spot/fac ratio'''\n",
    "spot_number/fac_number"
   ]
  },
  {
   "cell_type": "code",
   "execution_count": 15,
   "metadata": {},
   "outputs": [
    {
     "data": {
      "text/plain": [
       "1.2025316455696202"
      ]
     },
     "execution_count": 15,
     "metadata": {},
     "output_type": "execute_result"
    }
   ],
   "source": [
    "fac_number/spot_number"
   ]
  },
  {
   "cell_type": "code",
   "execution_count": 12,
   "metadata": {},
   "outputs": [
    {
     "data": {
      "text/plain": [
       "(237, 285)"
      ]
     },
     "execution_count": 12,
     "metadata": {},
     "output_type": "execute_result"
    }
   ],
   "source": [
    "spot_number,fac_number"
   ]
  },
  {
   "cell_type": "code",
   "execution_count": 13,
   "metadata": {},
   "outputs": [],
   "source": [
    "'''save as .txt file'''\n",
    "table_ratio = pd.DataFrame([],columns = ['spot','facula'])\n",
    "# table_ratio['NO'] = pd.Series(NO)\n",
    "table_ratio['spot'] = pd.Series(exist_spot)\n",
    "table_ratio['facula'] = pd.Series(exist_fac)\n",
    "# np.savetxt(\"simGrid-rA100.txt\",table_simGrid_LP)"
   ]
  },
  {
   "cell_type": "code",
   "execution_count": 14,
   "metadata": {},
   "outputs": [
    {
     "data": {
      "text/html": [
       "<div>\n",
       "<style scoped>\n",
       "    .dataframe tbody tr th:only-of-type {\n",
       "        vertical-align: middle;\n",
       "    }\n",
       "\n",
       "    .dataframe tbody tr th {\n",
       "        vertical-align: top;\n",
       "    }\n",
       "\n",
       "    .dataframe thead th {\n",
       "        text-align: right;\n",
       "    }\n",
       "</style>\n",
       "<table border=\"1\" class=\"dataframe\">\n",
       "  <thead>\n",
       "    <tr style=\"text-align: right;\">\n",
       "      <th></th>\n",
       "      <th>spot</th>\n",
       "      <th>facula</th>\n",
       "    </tr>\n",
       "  </thead>\n",
       "  <tbody>\n",
       "    <tr>\n",
       "      <th>0</th>\n",
       "      <td>0</td>\n",
       "      <td>0</td>\n",
       "    </tr>\n",
       "    <tr>\n",
       "      <th>1</th>\n",
       "      <td>0</td>\n",
       "      <td>0</td>\n",
       "    </tr>\n",
       "    <tr>\n",
       "      <th>2</th>\n",
       "      <td>1</td>\n",
       "      <td>1</td>\n",
       "    </tr>\n",
       "    <tr>\n",
       "      <th>3</th>\n",
       "      <td>1</td>\n",
       "      <td>0</td>\n",
       "    </tr>\n",
       "    <tr>\n",
       "      <th>4</th>\n",
       "      <td>0</td>\n",
       "      <td>0</td>\n",
       "    </tr>\n",
       "    <tr>\n",
       "      <th>...</th>\n",
       "      <td>...</td>\n",
       "      <td>...</td>\n",
       "    </tr>\n",
       "    <tr>\n",
       "      <th>393</th>\n",
       "      <td>0</td>\n",
       "      <td>1</td>\n",
       "    </tr>\n",
       "    <tr>\n",
       "      <th>394</th>\n",
       "      <td>0</td>\n",
       "      <td>1</td>\n",
       "    </tr>\n",
       "    <tr>\n",
       "      <th>395</th>\n",
       "      <td>2</td>\n",
       "      <td>1</td>\n",
       "    </tr>\n",
       "    <tr>\n",
       "      <th>396</th>\n",
       "      <td>1</td>\n",
       "      <td>1</td>\n",
       "    </tr>\n",
       "    <tr>\n",
       "      <th>397</th>\n",
       "      <td>0</td>\n",
       "      <td>1</td>\n",
       "    </tr>\n",
       "  </tbody>\n",
       "</table>\n",
       "<p>398 rows × 2 columns</p>\n",
       "</div>"
      ],
      "text/plain": [
       "     spot  facula\n",
       "0       0       0\n",
       "1       0       0\n",
       "2       1       1\n",
       "3       1       0\n",
       "4       0       0\n",
       "..    ...     ...\n",
       "393     0       1\n",
       "394     0       1\n",
       "395     2       1\n",
       "396     1       1\n",
       "397     0       1\n",
       "\n",
       "[398 rows x 2 columns]"
      ]
     },
     "execution_count": 14,
     "metadata": {},
     "output_type": "execute_result"
    }
   ],
   "source": [
    "table_ratio"
   ]
  },
  {
   "cell_type": "code",
   "execution_count": 29,
   "metadata": {
    "scrolled": true
   },
   "outputs": [
    {
     "data": {
      "text/plain": [
       "(0.5925, 0.7125)"
      ]
     },
     "execution_count": 29,
     "metadata": {},
     "output_type": "execute_result"
    }
   ],
   "source": [
    "237/400,285/400"
   ]
  },
  {
   "cell_type": "code",
   "execution_count": null,
   "metadata": {},
   "outputs": [],
   "source": []
  }
 ],
 "metadata": {
  "kernelspec": {
   "display_name": "my_env",
   "language": "python",
   "name": "my_env"
  },
  "language_info": {
   "codemirror_mode": {
    "name": "ipython",
    "version": 3
   },
   "file_extension": ".py",
   "mimetype": "text/x-python",
   "name": "python",
   "nbconvert_exporter": "python",
   "pygments_lexer": "ipython3",
   "version": "3.8.5"
  }
 },
 "nbformat": 4,
 "nbformat_minor": 4
}
